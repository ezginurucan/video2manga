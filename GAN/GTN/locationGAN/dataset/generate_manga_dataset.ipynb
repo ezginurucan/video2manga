{
  "nbformat": 4,
  "nbformat_minor": 0,
  "metadata": {
    "colab": {
      "provenance": []
    },
    "kernelspec": {
      "name": "python3",
      "display_name": "Python 3"
    },
    "language_info": {
      "name": "python"
    }
  },
  "cells": [
    {
      "cell_type": "code",
      "source": [
        "import os\n",
        "import cv2\n",
        "import numpy as np"
      ],
      "metadata": {
        "id": "YXsSfMRprknn"
      },
      "execution_count": null,
      "outputs": []
    },
    {
      "cell_type": "code",
      "source": [
        "def getLocations(cl, cb, cr, facial_feature_x, facial_feature_y):\n",
        "  feature_cl = facial_feature_x - cl\n",
        "  feature_cr = cr - facial_feature_x\n",
        "  feature_cb = cb - facial_feature_y\n",
        "  #print(\"feature_cl, feature_cr, feature_cb:\", feature_cl, feature_cr, feature_cb)\n",
        "  return feature_cl, feature_cr, feature_cb"
      ],
      "metadata": {
        "id": "MO07ZflSzV1Y"
      },
      "execution_count": null,
      "outputs": []
    },
    {
      "cell_type": "code",
      "source": [
        "def process_file(input_file_path, output_file_path):\n",
        "    # Read the lines from the input file\n",
        "    with open(input_file_path, 'r') as file:\n",
        "        lines = file.readlines()\n",
        "\n",
        "    # Initialize a dictionary to store lines by their IDs\n",
        "    data = {}\n",
        "    for line in lines:\n",
        "        parts = line.split()\n",
        "        id = parts[0]\n",
        "        data[id] = parts[1:]\n",
        "\n",
        "    new_lines = []\n",
        "    cl, cb, cr = 0, 0, 0\n",
        "    el_x, el_y = 0, 0\n",
        "    m_x, m_y = 0, 0\n",
        "    n_x, n_y = 0, 0\n",
        "    er_x, er_y = 0, 0\n",
        "\n",
        "    # Chin\n",
        "    id = '0'\n",
        "    if id in data:\n",
        "        values = data[id]\n",
        "        cl = float(values[4]) # x value of chin's left edge\n",
        "        cb = float(values[29]) # y value of chin's bottom edge\n",
        "        cr = float(values[52]) # x value of chin's right edge\n",
        "        #print(\"cl_x, cb_y, cr_x:\", cl, cb, cr)\n",
        "\n",
        "    # Left Eye\n",
        "    id = '1'\n",
        "    if id in data:\n",
        "        values = data[id]\n",
        "        el_x = (float(values[4]) + float(values[13])) / 2\n",
        "        el_y = (float(values[5]) + float(values[14])) / 2\n",
        "        #print(\"el_x, el_y:\", el_x, el_y)\n",
        "\n",
        "    # Mouth\n",
        "    id = '2'\n",
        "    if id in data:\n",
        "        values = data[id]\n",
        "        m_x = (float(values[4]) + float(values[7])) / 2\n",
        "        m_y = (float(values[5]) + float(values[8])) / 2\n",
        "        #print(\"m_x, m_y:\", m_x, m_y)\n",
        "\n",
        "    # Nose\n",
        "    id = '3'\n",
        "    if id in data:\n",
        "        values = data[id]\n",
        "        n_x = (float(values[4]) + float(values[10])) / 2\n",
        "        n_y = (float(values[5]) + float(values[11])) / 2\n",
        "        #print(\"n_x, n_y:\", n_x, n_y)\n",
        "\n",
        "    # Right Eye\n",
        "    id = '4'\n",
        "    if id in data:\n",
        "        values = data[id]\n",
        "        er_x = (float(values[4]) + float(values[13])) / 2\n",
        "        er_y = (float(values[5]) + float(values[14])) / 2\n",
        "        #print(\"er_x, er_y:\", er_x, er_y)\n",
        "\n",
        "    el = np.array(getLocations(cl, cb, cr, el_x, el_y))\n",
        "    m = np.array(getLocations(cl, cb, cr, m_x, m_y))\n",
        "    n = np.array(getLocations(cl, cb, cr, n_x, n_y))\n",
        "    er = np.array(getLocations(cl, cb, cr, er_x, er_y))\n",
        "\n",
        "    new_line = ' '.join(el.flatten().astype(str))\n",
        "    new_lines.append(new_line)\n",
        "    new_line = ' '.join(er.flatten().astype(str))\n",
        "    new_lines.append(new_line)\n",
        "    new_line = ' '.join(n.flatten().astype(str))\n",
        "    new_lines.append(new_line)\n",
        "    new_line = ' '.join(m.flatten().astype(str))\n",
        "    new_lines.append(new_line)\n",
        "\n",
        "    # Write the new lines to the output file\n",
        "    with open(output_file_path, 'w') as file:\n",
        "        for line in new_lines:\n",
        "            file.write(line + '\\n')"
      ],
      "metadata": {
        "id": "W1W40Gh8b87Y"
      },
      "execution_count": null,
      "outputs": []
    },
    {
      "cell_type": "code",
      "source": [
        "# Path to the folder containing input txt files\n",
        "input_folder = '/content/manga_landmarks_yolo'\n",
        "# Path to the folder to save output txt files\n",
        "output_folder = '/content/manga_locations_formatted'\n",
        "\n",
        "# Ensure output folder exists\n",
        "os.makedirs(output_folder, exist_ok=True)\n",
        "\n",
        "# Process each txt file in the input folder\n",
        "for filename in os.listdir(input_folder):\n",
        "    if filename.endswith('.txt'):\n",
        "        input_file_path = os.path.join(input_folder, filename)\n",
        "        output_file_path = os.path.join(output_folder, filename)\n",
        "        process_file(input_file_path, output_file_path)\n",
        "\n",
        "print(\"Processing completed.\")"
      ],
      "metadata": {
        "colab": {
          "base_uri": "https://localhost:8080/"
        },
        "id": "e6h-94Hu7j6G",
        "outputId": "fb5c04c3-f3bd-4247-88c2-c2f31f10c190"
      },
      "execution_count": null,
      "outputs": [
        {
          "output_type": "stream",
          "name": "stdout",
          "text": [
            "Processing completed.\n"
          ]
        }
      ]
    },
    {
      "cell_type": "code",
      "source": [
        "!zip -r manga_locations.zip /content/manga_locations_formatted/"
      ],
      "metadata": {
        "id": "r7IbgRussCbQ"
      },
      "execution_count": null,
      "outputs": []
    }
  ]
}