{
  "nbformat": 4,
  "nbformat_minor": 0,
  "metadata": {
    "colab": {
      "provenance": []
    },
    "kernelspec": {
      "name": "python3",
      "display_name": "Python 3"
    },
    "language_info": {
      "name": "python"
    }
  },
  "cells": [
    {
      "cell_type": "markdown",
      "source": [
        "# Installations"
      ],
      "metadata": {
        "id": "QNXVBpQLVE06"
      }
    },
    {
      "cell_type": "code",
      "execution_count": null,
      "metadata": {
        "colab": {
          "base_uri": "https://localhost:8080/"
        },
        "id": "_2WBWPzw9Orm",
        "outputId": "8a26a6ee-18a9-4e2d-b90b-9e85c4620fbd"
      },
      "outputs": [
        {
          "output_type": "stream",
          "name": "stdout",
          "text": [
            "Requirement already satisfied: torch in /usr/local/lib/python3.10/dist-packages (2.3.0+cu121)\n",
            "Requirement already satisfied: torchvision in /usr/local/lib/python3.10/dist-packages (0.18.0+cu121)\n",
            "Requirement already satisfied: filelock in /usr/local/lib/python3.10/dist-packages (from torch) (3.15.1)\n",
            "Requirement already satisfied: typing-extensions>=4.8.0 in /usr/local/lib/python3.10/dist-packages (from torch) (4.12.2)\n",
            "Requirement already satisfied: sympy in /usr/local/lib/python3.10/dist-packages (from torch) (1.12.1)\n",
            "Requirement already satisfied: networkx in /usr/local/lib/python3.10/dist-packages (from torch) (3.3)\n",
            "Requirement already satisfied: jinja2 in /usr/local/lib/python3.10/dist-packages (from torch) (3.1.4)\n",
            "Requirement already satisfied: fsspec in /usr/local/lib/python3.10/dist-packages (from torch) (2023.6.0)\n",
            "Collecting nvidia-cuda-nvrtc-cu12==12.1.105 (from torch)\n",
            "  Using cached nvidia_cuda_nvrtc_cu12-12.1.105-py3-none-manylinux1_x86_64.whl (23.7 MB)\n",
            "Collecting nvidia-cuda-runtime-cu12==12.1.105 (from torch)\n",
            "  Using cached nvidia_cuda_runtime_cu12-12.1.105-py3-none-manylinux1_x86_64.whl (823 kB)\n",
            "Collecting nvidia-cuda-cupti-cu12==12.1.105 (from torch)\n",
            "  Using cached nvidia_cuda_cupti_cu12-12.1.105-py3-none-manylinux1_x86_64.whl (14.1 MB)\n",
            "Collecting nvidia-cudnn-cu12==8.9.2.26 (from torch)\n",
            "  Using cached nvidia_cudnn_cu12-8.9.2.26-py3-none-manylinux1_x86_64.whl (731.7 MB)\n",
            "Collecting nvidia-cublas-cu12==12.1.3.1 (from torch)\n",
            "  Using cached nvidia_cublas_cu12-12.1.3.1-py3-none-manylinux1_x86_64.whl (410.6 MB)\n",
            "Collecting nvidia-cufft-cu12==11.0.2.54 (from torch)\n",
            "  Using cached nvidia_cufft_cu12-11.0.2.54-py3-none-manylinux1_x86_64.whl (121.6 MB)\n",
            "Collecting nvidia-curand-cu12==10.3.2.106 (from torch)\n",
            "  Using cached nvidia_curand_cu12-10.3.2.106-py3-none-manylinux1_x86_64.whl (56.5 MB)\n",
            "Collecting nvidia-cusolver-cu12==11.4.5.107 (from torch)\n",
            "  Using cached nvidia_cusolver_cu12-11.4.5.107-py3-none-manylinux1_x86_64.whl (124.2 MB)\n",
            "Collecting nvidia-cusparse-cu12==12.1.0.106 (from torch)\n",
            "  Using cached nvidia_cusparse_cu12-12.1.0.106-py3-none-manylinux1_x86_64.whl (196.0 MB)\n",
            "Collecting nvidia-nccl-cu12==2.20.5 (from torch)\n",
            "  Using cached nvidia_nccl_cu12-2.20.5-py3-none-manylinux2014_x86_64.whl (176.2 MB)\n",
            "Collecting nvidia-nvtx-cu12==12.1.105 (from torch)\n",
            "  Using cached nvidia_nvtx_cu12-12.1.105-py3-none-manylinux1_x86_64.whl (99 kB)\n",
            "Requirement already satisfied: triton==2.3.0 in /usr/local/lib/python3.10/dist-packages (from torch) (2.3.0)\n",
            "Collecting nvidia-nvjitlink-cu12 (from nvidia-cusolver-cu12==11.4.5.107->torch)\n",
            "  Downloading nvidia_nvjitlink_cu12-12.5.40-py3-none-manylinux2014_x86_64.whl (21.3 MB)\n",
            "\u001b[2K     \u001b[90m━━━━━━━━━━━━━━━━━━━━━━━━━━━━━━━━━━━━━━━━\u001b[0m \u001b[32m21.3/21.3 MB\u001b[0m \u001b[31m46.2 MB/s\u001b[0m eta \u001b[36m0:00:00\u001b[0m\n",
            "\u001b[?25hRequirement already satisfied: numpy in /usr/local/lib/python3.10/dist-packages (from torchvision) (1.25.2)\n",
            "Requirement already satisfied: pillow!=8.3.*,>=5.3.0 in /usr/local/lib/python3.10/dist-packages (from torchvision) (9.4.0)\n",
            "Requirement already satisfied: MarkupSafe>=2.0 in /usr/local/lib/python3.10/dist-packages (from jinja2->torch) (2.1.5)\n",
            "Requirement already satisfied: mpmath<1.4.0,>=1.1.0 in /usr/local/lib/python3.10/dist-packages (from sympy->torch) (1.3.0)\n",
            "Installing collected packages: nvidia-nvtx-cu12, nvidia-nvjitlink-cu12, nvidia-nccl-cu12, nvidia-curand-cu12, nvidia-cufft-cu12, nvidia-cuda-runtime-cu12, nvidia-cuda-nvrtc-cu12, nvidia-cuda-cupti-cu12, nvidia-cublas-cu12, nvidia-cusparse-cu12, nvidia-cudnn-cu12, nvidia-cusolver-cu12\n",
            "Successfully installed nvidia-cublas-cu12-12.1.3.1 nvidia-cuda-cupti-cu12-12.1.105 nvidia-cuda-nvrtc-cu12-12.1.105 nvidia-cuda-runtime-cu12-12.1.105 nvidia-cudnn-cu12-8.9.2.26 nvidia-cufft-cu12-11.0.2.54 nvidia-curand-cu12-10.3.2.106 nvidia-cusolver-cu12-11.4.5.107 nvidia-cusparse-cu12-12.1.0.106 nvidia-nccl-cu12-2.20.5 nvidia-nvjitlink-cu12-12.5.40 nvidia-nvtx-cu12-12.1.105\n"
          ]
        }
      ],
      "source": [
        "!pip install torch torchvision"
      ]
    },
    {
      "cell_type": "markdown",
      "source": [
        "# Download shape_predictor_68_face_landmarks.dat file from dlib"
      ],
      "metadata": {
        "id": "EbQ8k_IzA9CZ"
      }
    },
    {
      "cell_type": "code",
      "source": [
        "!wget http://dlib.net/files/shape_predictor_68_face_landmarks.dat.bz2\n",
        "!bzip2 -d shape_predictor_68_face_landmarks.dat.bz2"
      ],
      "metadata": {
        "colab": {
          "base_uri": "https://localhost:8080/"
        },
        "id": "mTD0f-dDBM5U",
        "outputId": "0bd3dd5e-e1db-42b4-aa38-bc8e4a8d6dec"
      },
      "execution_count": null,
      "outputs": [
        {
          "output_type": "stream",
          "name": "stdout",
          "text": [
            "--2024-06-30 10:05:42--  http://dlib.net/files/shape_predictor_68_face_landmarks.dat.bz2\n",
            "Resolving dlib.net (dlib.net)... 107.180.26.78\n",
            "Connecting to dlib.net (dlib.net)|107.180.26.78|:80... connected.\n",
            "HTTP request sent, awaiting response... 200 OK\n",
            "Length: 64040097 (61M)\n",
            "Saving to: ‘shape_predictor_68_face_landmarks.dat.bz2’\n",
            "\n",
            "shape_predictor_68_ 100%[===================>]  61.07M  40.1MB/s    in 1.5s    \n",
            "\n",
            "2024-06-30 10:05:43 (40.1 MB/s) - ‘shape_predictor_68_face_landmarks.dat.bz2’ saved [64040097/64040097]\n",
            "\n"
          ]
        }
      ]
    },
    {
      "cell_type": "markdown",
      "source": [
        "# Imports"
      ],
      "metadata": {
        "id": "rADHFrMxVTb6"
      }
    },
    {
      "cell_type": "code",
      "source": [
        "import torch\n",
        "from torchvision import datasets, transforms, utils\n",
        "import dlib\n",
        "import numpy as np\n",
        "import os\n",
        "import cv2\n",
        "from google.colab.patches import cv2_imshow\n",
        "from PIL import Image\n",
        "import matplotlib.pyplot as plt"
      ],
      "metadata": {
        "id": "vCVj-IguBO9O"
      },
      "execution_count": null,
      "outputs": []
    },
    {
      "cell_type": "markdown",
      "source": [
        "# Definitions"
      ],
      "metadata": {
        "id": "OhaGQDW-JDhP"
      }
    },
    {
      "cell_type": "code",
      "source": [
        "# Create a directory to store the landmarks\n",
        "landmarks_dir = './landmarks'\n",
        "os.makedirs(landmarks_dir, exist_ok=True)"
      ],
      "metadata": {
        "id": "Q_Tadga0YfK6"
      },
      "execution_count": null,
      "outputs": []
    },
    {
      "cell_type": "code",
      "source": [
        "# Initialize dlib's face detector and facial landmark predictor\n",
        "detector = dlib.get_frontal_face_detector()\n",
        "predictor = dlib.shape_predictor(\"shape_predictor_68_face_landmarks.dat\")\n",
        "\n",
        "# Define a transform to convert the images to tensors\n",
        "transform = transforms.Compose([\n",
        "    transforms.ToTensor()\n",
        "])"
      ],
      "metadata": {
        "id": "dmTi0hVbWO91"
      },
      "execution_count": null,
      "outputs": []
    },
    {
      "cell_type": "code",
      "source": [
        "def getLocations(chin, facial_feature):\n",
        "  facial_feature_center = (facial_feature[0] + facial_feature[1]) / 2\n",
        "  feature_cl = facial_feature_center - chin[0]\n",
        "  feature_cr = chin[2] - facial_feature_center\n",
        "  feature_cb = chin[1] - facial_feature_center\n",
        "  print(\"cl, cr, cb:\", feature_cl[0], feature_cr[0], feature_cb[1])\n",
        "  return feature_cl[0], feature_cr[0], feature_cb[1]"
      ],
      "metadata": {
        "id": "a4RLVKa5WQ5W"
      },
      "execution_count": null,
      "outputs": []
    },
    {
      "cell_type": "code",
      "source": [
        "# Function to detect facial landmarks and save them\n",
        "def detect_landmarks(image, name, idx):\n",
        "    # Convert tensor image to PIL image\n",
        "    pil_image = transforms.ToPILImage()(image)\n",
        "\n",
        "    # Convert PIL image to numpy array\n",
        "    img_np = np.array(pil_image)\n",
        "\n",
        "    # Get image dimensions\n",
        "    img_height, img_width = img_np.shape[:2]\n",
        "\n",
        "    # Convert image to grayscale\n",
        "    gray = cv2.cvtColor(img_np, cv2.COLOR_RGB2GRAY)\n",
        "\n",
        "    # Detect faces in the grayscale image\n",
        "    faces = detector(gray)\n",
        "\n",
        "    # If no face detected, return None\n",
        "    if len(faces) == 0:\n",
        "        return None\n",
        "\n",
        "    # Only process the first detected face\n",
        "    face = faces[0]\n",
        "\n",
        "    # Predict facial landmarks\n",
        "    landmarks = predictor(gray, face)\n",
        "\n",
        "    chin_indices = [0, 8, 16] # left edge, bottom edge and right edge of the chin\n",
        "    # (left and rigth ends):\n",
        "    left_eye_indices = [36, 39]\n",
        "    right_eye_indices = [42, 45]\n",
        "    nose_indices = [31, 35]\n",
        "    mouth_indices = [48, 54]\n",
        "\n",
        "    # Extract landmarks as numpy arrays\n",
        "    chin_np = np.array([(landmarks.part(i).x, landmarks.part(i).y) for i in chin_indices])\n",
        "    left_eye_np = np.array([(landmarks.part(i).x, landmarks.part(i).y) for i in left_eye_indices])\n",
        "    right_eye_np = np.array([(landmarks.part(i).x, landmarks.part(i).y) for i in right_eye_indices])\n",
        "    nose_np = np.array([(landmarks.part(i).x, landmarks.part(i).y) for i in nose_indices])\n",
        "    mouth_np = np.array([(landmarks.part(i).x, landmarks.part(i).y) for i in mouth_indices])\n",
        "\n",
        "    # Normalize landmarks\n",
        "    chin_normalized = chin_np / np.array([img_width, img_height])\n",
        "    left_eye_normalized = left_eye_np / np.array([img_width, img_height])\n",
        "    right_eye_normalized = right_eye_np / np.array([img_width, img_height])\n",
        "    nose_normalized = nose_np / np.array([img_width, img_height])\n",
        "    mouth_normalized = mouth_np / np.array([img_width, img_height])\n",
        "\n",
        "    # Create a valid filename by combining the name and index\n",
        "    valid_filename = f\"{name}_{idx}.txt\".replace(' ', '_')\n",
        "\n",
        "    el_cl, el_cr, el_cb = getLocations(chin_normalized, left_eye_normalized)\n",
        "    er_cl, er_cr, er_cb = getLocations(chin_normalized, right_eye_normalized)\n",
        "    n_cl, n_cr, n_cb = getLocations(chin_normalized, nose_normalized)\n",
        "    m_cl, m_cr, m_cb = getLocations(chin_normalized, mouth_normalized)\n",
        "\n",
        "    el = np.array([el_cl, el_cr, el_cb])\n",
        "    er = np.array([er_cl, er_cr, er_cb])\n",
        "    n = np.array([n_cl, n_cr, n_cb])\n",
        "    m = np.array([m_cl, m_cr, m_cb])\n",
        "\n",
        "    results = np.array([el, er, n, m])\n",
        "\n",
        "    # Format the results into a string\n",
        "    output = ''\n",
        "    for arr in results:\n",
        "        output += ' '.join(map(str, arr)) + '\\n'\n",
        "\n",
        "    # Write the formatted string to a text file\n",
        "    with open(f'{landmarks_dir}/{valid_filename}', 'w') as f:\n",
        "        f.write(output)"
      ],
      "metadata": {
        "id": "77h5p3KfA2l9"
      },
      "execution_count": null,
      "outputs": []
    },
    {
      "cell_type": "markdown",
      "source": [
        "# Detect facial landmarks (Custom Dataset)"
      ],
      "metadata": {
        "id": "pDiIUyoIYWvw"
      }
    },
    {
      "cell_type": "code",
      "source": [
        "# Klasördeki tüm dosyaları alalım\n",
        "files = os.listdir(\"/content/frontal_faces\")\n",
        "\n",
        "# Görüntü dosyalarını işle\n",
        "for idx, file_name in enumerate(files):\n",
        "    # Dosya yolunu oluştur\n",
        "    file_path = os.path.join(\"/content/frontal_faces\", file_name)\n",
        "\n",
        "    # Görüntüyü yükle\n",
        "    image = cv2.imread(file_path)\n",
        "\n",
        "    # Görüntüyü RGB formatına dönüştür\n",
        "    image_rgb = cv2.cvtColor(image, cv2.COLOR_BGR2RGB)\n",
        "\n",
        "    # Görüntüyü tensor'a dönüştür\n",
        "    image_tensor = transforms.ToTensor()(image_rgb)\n",
        "\n",
        "    # Landmarkları tespit et ve kaydet\n",
        "    detect_landmarks(image_tensor, file_name.split('.')[0], idx)\n",
        "print(\"Landmarks extraction completed!\")"
      ],
      "metadata": {
        "colab": {
          "base_uri": "https://localhost:8080/"
        },
        "id": "OLsbc536YWaa",
        "outputId": "2afae64d-567f-48c2-a896-ce97a5d6e2ca"
      },
      "execution_count": null,
      "outputs": [
        {
          "output_type": "stream",
          "name": "stdout",
          "text": [
            "cl, cr, cb: 0.1403846153846154 0.4673076923076923 0.4769230769230769\n",
            "cl, cr, cb: 0.4076923076923077 0.20000000000000007 0.5019230769230769\n",
            "cl, cr, cb: 0.2730769230769231 0.33461538461538465 0.32499999999999996\n",
            "cl, cr, cb: 0.2846153846153846 0.3230769230769231 0.1942307692307692\n",
            "Landmarks extraction completed!\n"
          ]
        }
      ]
    },
    {
      "cell_type": "markdown",
      "source": [
        "# Save the results"
      ],
      "metadata": {
        "id": "ErwXVNiqYQHM"
      }
    },
    {
      "cell_type": "code",
      "source": [
        "# Download landmark annotations\n",
        "!zip -r landmarks.zip /content/landmarks"
      ],
      "metadata": {
        "id": "28KCvGdWFM9x",
        "collapsed": true
      },
      "execution_count": null,
      "outputs": []
    }
  ]
}