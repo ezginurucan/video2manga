{
  "nbformat": 4,
  "nbformat_minor": 0,
  "metadata": {
    "colab": {
      "provenance": []
    },
    "kernelspec": {
      "name": "python3",
      "display_name": "Python 3"
    },
    "language_info": {
      "name": "python"
    }
  },
  "cells": [
    {
      "cell_type": "code",
      "source": [
        "import os\n",
        "import cv2\n",
        "import numpy as np"
      ],
      "metadata": {
        "id": "YXsSfMRprknn"
      },
      "execution_count": null,
      "outputs": []
    },
    {
      "cell_type": "code",
      "source": [
        "def process_file(input_file_path, output_file_path):\n",
        "    # Read the lines from the input file\n",
        "    with open(input_file_path, 'r') as file:\n",
        "        lines = file.readlines()\n",
        "\n",
        "    # Initialize a dictionary to store lines by their IDs\n",
        "    data = {}\n",
        "    for line in lines:\n",
        "        parts = line.split()\n",
        "        id = parts[0]\n",
        "        data[id] = parts[1:]\n",
        "\n",
        "    new_lines = []\n",
        "    el_x, el_y = 0, 0\n",
        "    m_x, m_y = 0, 0\n",
        "    n_x, n_y = 0, 0\n",
        "    er_x, er_y = 0, 0\n",
        "\n",
        "    # Left Eye\n",
        "    id = '1'\n",
        "    if id in data:\n",
        "        values = data[id]\n",
        "        el_width = float(values[13]) - float(values[4])\n",
        "        #print(\"el_width:\", el_width)\n",
        "\n",
        "    # Mouth\n",
        "    id = '2'\n",
        "    if id in data:\n",
        "        values = data[id]\n",
        "        m_width = float(values[7]) - float(values[4])\n",
        "        #print(\"m_width:\", m_width)\n",
        "\n",
        "    # Nose\n",
        "    id = '3'\n",
        "    if id in data:\n",
        "        values = data[id]\n",
        "        n_width = float(values[10]) - float(values[4])\n",
        "        #print(\"n_width:\", n_width)\n",
        "\n",
        "    # Right Eye\n",
        "    id = '4'\n",
        "    if id in data:\n",
        "        values = data[id]\n",
        "        er_width = float(values[13]) - float(values[4])\n",
        "        #print(\"er_width:\", er_width)\n",
        "\n",
        "    with open(output_file_path, 'w') as file:\n",
        "        file.write(str(el_width) + '\\n')\n",
        "        file.write(str(er_width) + '\\n')\n",
        "        file.write(str(n_width) + '\\n')\n",
        "        file.write(str(m_width))"
      ],
      "metadata": {
        "id": "W1W40Gh8b87Y"
      },
      "execution_count": null,
      "outputs": []
    },
    {
      "cell_type": "code",
      "source": [
        "# Path to the folder containing input txt files\n",
        "input_folder = '/content/manga_landmarks_yolo'\n",
        "# Path to the folder to save output txt files\n",
        "output_folder = '/content/manga_widths_formatted'\n",
        "\n",
        "# Ensure output folder exists\n",
        "os.makedirs(output_folder, exist_ok=True)\n",
        "\n",
        "# Process each txt file in the input folder\n",
        "for filename in os.listdir(input_folder):\n",
        "    if filename.endswith('.txt'):\n",
        "        input_file_path = os.path.join(input_folder, filename)\n",
        "        output_file_path = os.path.join(output_folder, filename)\n",
        "        process_file(input_file_path, output_file_path)\n",
        "\n",
        "print(\"Processing completed.\")"
      ],
      "metadata": {
        "colab": {
          "base_uri": "https://localhost:8080/"
        },
        "id": "e6h-94Hu7j6G",
        "outputId": "203e6293-d618-47d2-9535-2c23c5ed0cbe"
      },
      "execution_count": null,
      "outputs": [
        {
          "output_type": "stream",
          "name": "stdout",
          "text": [
            "Processing completed.\n"
          ]
        }
      ]
    },
    {
      "cell_type": "code",
      "source": [
        "!zip -r manga_widths.zip /content/manga_widths_formatted/"
      ],
      "metadata": {
        "id": "r7IbgRussCbQ"
      },
      "execution_count": null,
      "outputs": []
    }
  ]
}